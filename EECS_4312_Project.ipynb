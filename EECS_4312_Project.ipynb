{
  "cells": [
    {
      "cell_type": "markdown",
      "metadata": {
        "id": "4Mg0ZMFhgrn3"
      },
      "source": [
        "Installing required packages (execute all code):"
      ]
    },
    {
      "cell_type": "code",
      "execution_count": 1,
      "metadata": {
        "colab": {
          "base_uri": "https://localhost:8080/"
        },
        "id": "wqhkBenL7lL3",
        "outputId": "c66c992e-29e9-4169-e8f0-96b4d85586e6"
      },
      "outputs": [
        {
          "name": "stderr",
          "output_type": "stream",
          "text": [
            "[nltk_data] Downloading package wordnet to\n",
            "[nltk_data]     C:\\Users\\Arjun\\AppData\\Roaming\\nltk_data...\n",
            "[nltk_data]   Package wordnet is already up-to-date!\n"
          ]
        }
      ],
      "source": [
        "!pip install -q google_play_scraper\n",
        "!pip install -q transformers\n",
        "!pip install -q plotly-express\n",
        "!pip install -q num2words\n",
        "!pip install -q demoji\n",
        "!pip install -q unidecode\n",
        "!pip install -q vaderSentiment\n",
        "from num2words import num2words\n",
        "import nltk\n",
        "nltk.download('wordnet')\n",
        "from nltk.stem import WordNetLemmatizer"
      ]
    },
    {
      "cell_type": "markdown",
      "metadata": {
        "id": "zq5uAZDNxbEX"
      },
      "source": [
        "#TASK 1: GATHERING REVIEWS"
      ]
    },
    {
      "cell_type": "markdown",
      "metadata": {
        "id": "L5Tv4CQDsTcj"
      },
      "source": [
        "**SUD:** https://play.google.com/store/apps/details?id=com.enjoyingfoss.parlera&hl=en_CA&gl=US\n",
        "\n",
        "**Heads Up!**:\n",
        "Competitor\n",
        "https://play.google.com/store/apps/details?id=com.wb.headsup\n",
        "\n",
        "**GuessUp - Word Party Charades**:\n",
        "Competitor\n",
        "https://play.google.com/store/apps/details?id=pt.cosmicode.guessup&hl=en\n",
        "\n",
        "**Guess! Charades Party Game**:\n",
        "Similar\n",
        "https://play.google.com/store/apps/details?id=com.boinkiieee.charades\n",
        "\n",
        "**Guess What: Just One Word**:\n",
        "Similar\n",
        "https://play.google.com/store/apps/details?id=com.siwalusoftware.guesswhat&hl=en\n",
        "\n"
      ]
    },
    {
      "cell_type": "markdown",
      "metadata": {
        "id": "XEELk8pFjtyb"
      },
      "source": [
        "The notebook contains the review content, score, appID, and userName, in that order. The names of the csv files are appended with the package name of the app it is for."
      ]
    },
    {
      "cell_type": "code",
      "execution_count": 2,
      "metadata": {
        "colab": {
          "base_uri": "https://localhost:8080/"
        },
        "id": "wZ_pz-7Z72yd",
        "outputId": "d9d719b1-4404-4a04-b233-5d04b090e906"
      },
      "outputs": [
        {
          "name": "stderr",
          "output_type": "stream",
          "text": [
            "100%|██████████| 5/5 [00:04<00:00,  1.01it/s]\n"
          ]
        }
      ],
      "source": [
        "from google_play_scraper import app, Sort, reviews_all, reviews\n",
        "import plotly.express as px\n",
        "import pandas as pd\n",
        "import numpy as np\n",
        "from google_play_scraper import Sort, reviews_all\n",
        "from tqdm import tqdm\n",
        "import re\n",
        "import demoji\n",
        "from gensim.parsing.preprocessing import remove_stopwords\n",
        "from unidecode import unidecode\n",
        "\n",
        "app_reviews = []\n",
        "app_packages = [\n",
        "  'com.enjoyingfoss.parlera',\n",
        "  'com.wb.headsup',\n",
        "  'pt.cosmicode.guessup',\n",
        "  'com.boinkiieee.charades',\n",
        "  'com.siwalusoftware.guesswhat'\n",
        "]\n",
        "count = 0\n",
        "\n",
        "for app_package in tqdm(app_packages):\n",
        "\n",
        "  # for sort_order in [Sort.MOST_RELEVANT]:\n",
        "    rvs, _ = reviews(\n",
        "      app_package,\n",
        "      lang='en',\n",
        "      country='us',\n",
        "      sort=Sort.MOST_RELEVANT,\n",
        "      count= 1000,\n",
        "      filter_score_with=None\n",
        "    )\n",
        "\n",
        "    for r in rvs:\n",
        "      r['sortOrder'] = 'most_relevant'\n",
        "      r['appId'] = app_package\n",
        "\n",
        "    app_reviews.extend(rvs)\n",
        "    app_reviews_df = pd.DataFrame(app_reviews)\n",
        "    # getting all the columns\n",
        "    my_cols = set(app_reviews_df.columns)\n",
        "\n",
        "  # removing the desired column\n",
        "    my_cols.remove('reviewId')\n",
        "    my_cols.remove('repliedAt')\n",
        "    my_cols.remove('replyContent')\n",
        "    my_cols.remove('sortOrder')\n",
        "    my_cols.remove('thumbsUpCount')\n",
        "    my_cols.remove('reviewCreatedVersion')\n",
        "    my_cols.remove('userImage')\n",
        "    my_cols.remove('at')\n",
        "    my_cols = list(my_cols)\n",
        "    app_reviews_df = app_reviews_df[my_cols]\n",
        "    # <Package name, Reviewer name, Review,Rating>\n",
        "    app_reviews_df = app_reviews_df.rename(columns={'appId': 'Package name', 'content': 'Review', 'score': 'Rating', 'userName': 'Reviewer name'})\n",
        "\n",
        "    app_reviews_df = app_reviews_df[['Package name', 'Reviewer name', 'Review', 'Rating']]\n",
        "\n",
        "    app_reviews_df.to_csv('reviews_for_'+ r['appId'] +'.csv', index=None, header=True)\n",
        "    app_reviews.clear()\n",
        "    count+=1"
      ]
    },
    {
      "cell_type": "markdown",
      "metadata": {
        "id": "HbZG8kEkx4Jr"
      },
      "source": [
        "#TASK 2: PREPROCESS YOUR TEXT"
      ]
    },
    {
      "cell_type": "code",
      "execution_count": 3,
      "metadata": {
        "id": "HRaVtMNQC1rn"
      },
      "outputs": [],
      "source": [
        "def convert_numbers(text):\n",
        "    # Find all numbers in the text\n",
        "    numbers = re.findall(r'\\d+', text)\n",
        "\n",
        "    # Replace each number with its full form\n",
        "    for number in numbers:\n",
        "        full_form = num2words(int(number))\n",
        "        text = text.replace(number, full_form)\n",
        "\n",
        "    return text"
      ]
    },
    {
      "cell_type": "code",
      "execution_count": 4,
      "metadata": {
        "id": "uljd-1nOVFKq"
      },
      "outputs": [],
      "source": [
        "def lemmatizer(text):\n",
        "    lemm_txt = [lemmatizer.lemmatize(word) for word in text]\n",
        "    return lemm_txt"
      ]
    },
    {
      "cell_type": "code",
      "execution_count": 5,
      "metadata": {
        "id": "h-Jsn9ePOT7s"
      },
      "outputs": [],
      "source": [
        "#library that contains punctuation\n",
        "import string\n",
        "string.punctuation\n",
        "#defining the function to remove punctuation\n",
        "def remove_punctuation(text):\n",
        "    punctuationfree=\"\".join([i for i in text if i not in string.punctuation])\n",
        "    return punctuationfree\n",
        "#storing the puntuation free text\n"
      ]
    },
    {
      "cell_type": "markdown",
      "metadata": {
        "id": "iqcTxUkbhp_A"
      },
      "source": [
        "## Output 15 sample pre-processed reviews in your notebook:\n"
      ]
    },
    {
      "cell_type": "code",
      "execution_count": 6,
      "metadata": {
        "colab": {
          "base_uri": "https://localhost:8080/",
          "height": 519
        },
        "id": "EBhIjcTNyX-y",
        "outputId": "4ce85aef-9388-4ff1-f6dc-67486245a9c8"
      },
      "outputs": [
        {
          "data": {
            "text/html": [
              "<div>\n",
              "<style scoped>\n",
              "    .dataframe tbody tr th:only-of-type {\n",
              "        vertical-align: middle;\n",
              "    }\n",
              "\n",
              "    .dataframe tbody tr th {\n",
              "        vertical-align: top;\n",
              "    }\n",
              "\n",
              "    .dataframe thead th {\n",
              "        text-align: right;\n",
              "    }\n",
              "</style>\n",
              "<table border=\"1\" class=\"dataframe\">\n",
              "  <thead>\n",
              "    <tr style=\"text-align: right;\">\n",
              "      <th></th>\n",
              "      <th>Package name</th>\n",
              "      <th>Reviewer name</th>\n",
              "      <th>Review</th>\n",
              "      <th>Rating</th>\n",
              "    </tr>\n",
              "  </thead>\n",
              "  <tbody>\n",
              "    <tr>\n",
              "      <th>0</th>\n",
              "      <td>com.wb.headsup</td>\n",
              "      <td>Nick B</td>\n",
              "      <td>game amazing home page terrible good expansion...</td>\n",
              "      <td>2</td>\n",
              "    </tr>\n",
              "    <tr>\n",
              "      <th>1</th>\n",
              "      <td>com.wb.headsup</td>\n",
              "      <td>Michael Bauman</td>\n",
              "      <td>newest patches game responsive playable stars ...</td>\n",
              "      <td>4</td>\n",
              "    </tr>\n",
              "    <tr>\n",
              "      <th>2</th>\n",
              "      <td>com.wb.headsup</td>\n",
              "      <td>Amy Anderson</td>\n",
              "      <td>app start sits heads screen loading ring fille...</td>\n",
              "      <td>1</td>\n",
              "    </tr>\n",
              "    <tr>\n",
              "      <th>3</th>\n",
              "      <td>com.wb.headsup</td>\n",
              "      <td>Dawneisha Hill</td>\n",
              "      <td>game phone years awesome downloaded working fa...</td>\n",
              "      <td>1</td>\n",
              "    </tr>\n",
              "    <tr>\n",
              "      <th>4</th>\n",
              "      <td>com.wb.headsup</td>\n",
              "      <td>Tikka Kids</td>\n",
              "      <td>played friends iphone lot fun got android time...</td>\n",
              "      <td>1</td>\n",
              "    </tr>\n",
              "    <tr>\n",
              "      <th>5</th>\n",
              "      <td>com.wb.headsup</td>\n",
              "      <td>A Google user</td>\n",
              "      <td>great game especially groups problem controls ...</td>\n",
              "      <td>3</td>\n",
              "    </tr>\n",
              "    <tr>\n",
              "      <th>6</th>\n",
              "      <td>com.wb.headsup</td>\n",
              "      <td>A Google user</td>\n",
              "      <td>game fine theyve taken old concept game like c...</td>\n",
              "      <td>1</td>\n",
              "    </tr>\n",
              "    <tr>\n",
              "      <th>7</th>\n",
              "      <td>com.wb.headsup</td>\n",
              "      <td>A Google user</td>\n",
              "      <td>happened game phones worked issues wont load l...</td>\n",
              "      <td>1</td>\n",
              "    </tr>\n",
              "    <tr>\n",
              "      <th>8</th>\n",
              "      <td>com.wb.headsup</td>\n",
              "      <td>Andrew MacLaine</td>\n",
              "      <td>fun people awesome silly group crashing review...</td>\n",
              "      <td>5</td>\n",
              "    </tr>\n",
              "    <tr>\n",
              "      <th>9</th>\n",
              "      <td>com.wb.headsup</td>\n",
              "      <td>A Google user</td>\n",
              "      <td>previous phone samsung galaxy new phone pixel ...</td>\n",
              "      <td>1</td>\n",
              "    </tr>\n",
              "    <tr>\n",
              "      <th>10</th>\n",
              "      <td>com.wb.headsup</td>\n",
              "      <td>Sean M</td>\n",
              "      <td>fun game theyre constantly making user experie...</td>\n",
              "      <td>2</td>\n",
              "    </tr>\n",
              "    <tr>\n",
              "      <th>11</th>\n",
              "      <td>com.wb.headsup</td>\n",
              "      <td>Paweł Dziemianko</td>\n",
              "      <td>play app lot bought extra decks work need cust...</td>\n",
              "      <td>2</td>\n",
              "    </tr>\n",
              "    <tr>\n",
              "      <th>12</th>\n",
              "      <td>com.wb.headsup</td>\n",
              "      <td>5orsky Sorsky</td>\n",
              "      <td>ui isnt scroll dozens hundreds genres order yo...</td>\n",
              "      <td>3</td>\n",
              "    </tr>\n",
              "    <tr>\n",
              "      <th>13</th>\n",
              "      <td>com.wb.headsup</td>\n",
              "      <td>Oliver Winwood</td>\n",
              "      <td>purchased harry potter addon google pixel pro ...</td>\n",
              "      <td>2</td>\n",
              "    </tr>\n",
              "    <tr>\n",
              "      <th>14</th>\n",
              "      <td>com.wb.headsup</td>\n",
              "      <td>ItzBella G</td>\n",
              "      <td>looks like good game unfortunately got play ga...</td>\n",
              "      <td>1</td>\n",
              "    </tr>\n",
              "  </tbody>\n",
              "</table>\n",
              "</div>"
            ],
            "text/plain": [
              "      Package name     Reviewer name  \\\n",
              "0   com.wb.headsup            Nick B   \n",
              "1   com.wb.headsup    Michael Bauman   \n",
              "2   com.wb.headsup      Amy Anderson   \n",
              "3   com.wb.headsup    Dawneisha Hill   \n",
              "4   com.wb.headsup        Tikka Kids   \n",
              "5   com.wb.headsup     A Google user   \n",
              "6   com.wb.headsup     A Google user   \n",
              "7   com.wb.headsup     A Google user   \n",
              "8   com.wb.headsup   Andrew MacLaine   \n",
              "9   com.wb.headsup     A Google user   \n",
              "10  com.wb.headsup            Sean M   \n",
              "11  com.wb.headsup  Paweł Dziemianko   \n",
              "12  com.wb.headsup     5orsky Sorsky   \n",
              "13  com.wb.headsup    Oliver Winwood   \n",
              "14  com.wb.headsup        ItzBella G   \n",
              "\n",
              "                                               Review  Rating  \n",
              "0   game amazing home page terrible good expansion...       2  \n",
              "1   newest patches game responsive playable stars ...       4  \n",
              "2   app start sits heads screen loading ring fille...       1  \n",
              "3   game phone years awesome downloaded working fa...       1  \n",
              "4   played friends iphone lot fun got android time...       1  \n",
              "5   great game especially groups problem controls ...       3  \n",
              "6   game fine theyve taken old concept game like c...       1  \n",
              "7   happened game phones worked issues wont load l...       1  \n",
              "8   fun people awesome silly group crashing review...       5  \n",
              "9   previous phone samsung galaxy new phone pixel ...       1  \n",
              "10  fun game theyre constantly making user experie...       2  \n",
              "11  play app lot bought extra decks work need cust...       2  \n",
              "12  ui isnt scroll dozens hundreds genres order yo...       3  \n",
              "13  purchased harry potter addon google pixel pro ...       2  \n",
              "14  looks like good game unfortunately got play ga...       1  "
            ]
          },
          "metadata": {},
          "output_type": "display_data"
        }
      ],
      "source": [
        "from google_play_scraper import app, Sort, reviews_all, reviews\n",
        "import plotly.express as px\n",
        "import pandas as pd\n",
        "import numpy as np\n",
        "from tqdm import tqdm\n",
        "import re\n",
        "import demoji\n",
        "from gensim.parsing.preprocessing import remove_stopwords\n",
        "from unidecode import unidecode\n",
        "\n",
        "def preprocess_text(text):\n",
        "    if text is None:\n",
        "      return []\n",
        "    text = remove_punctuation(text)\n",
        "    text = demoji.replace(text, '')\n",
        "    text = unidecode(text)\n",
        "    text = convert_numbers(text)\n",
        "    text= text.strip()\n",
        "    text = text.lower()\n",
        "    text = remove_stopwords(text)\n",
        "    lemmatizer = WordNetLemmatizer()\n",
        "    text = lemmatizer.lemmatize(text)\n",
        "    return text\n",
        "\n",
        "# Preprocess the reviews\n",
        "# review_tokens = [preprocess_text(review['content']) for review in reviews]\n",
        "app = 'com.wb.headsup'\n",
        "rvs, _ = reviews(\n",
        "  app,\n",
        "  lang='en',\n",
        "  country='us',\n",
        "  sort=Sort.MOST_RELEVANT,\n",
        "  count= 15,\n",
        "  filter_score_with=None\n",
        ")\n",
        "\n",
        "app_reviews = []\n",
        "\n",
        "for r in rvs:\n",
        "  r['content'] = preprocess_text(r['content'])\n",
        "  r['appId'] = app\n",
        "\n",
        "app_reviews.extend(rvs)\n",
        "app_reviews_df = pd.DataFrame(app_reviews)\n",
        "# getting all the columns\n",
        "my_cols = set(app_reviews_df.columns)\n",
        "\n",
        "# removing the desired column\n",
        "my_cols.remove('reviewId')\n",
        "my_cols.remove('repliedAt')\n",
        "my_cols.remove('replyContent')\n",
        "my_cols.remove('thumbsUpCount')\n",
        "my_cols.remove('reviewCreatedVersion')\n",
        "my_cols.remove('userImage')\n",
        "my_cols.remove('at')\n",
        "my_cols = list(my_cols)\n",
        "app_reviews_df = app_reviews_df[my_cols]\n",
        "app_reviews_df = app_reviews_df.rename(columns={'appId': 'Package name', 'content': 'Review', 'score': 'Rating', 'userName': 'Reviewer name'})\n",
        "app_reviews_df = app_reviews_df[['Package name', 'Reviewer name', 'Review', 'Rating']]\n",
        "\n",
        "display(app_reviews_df)"
      ]
    },
    {
      "cell_type": "markdown",
      "metadata": {
        "id": "ZPg1FnG7DAzY"
      },
      "source": [
        "# TASK 3: SENTIMENT ANALYSIS"
      ]
    },
    {
      "cell_type": "code",
      "execution_count": 7,
      "metadata": {
        "colab": {
          "base_uri": "https://localhost:8080/",
          "height": 423
        },
        "id": "MmtcMRsIOD00",
        "outputId": "772e7189-c0c8-4de0-af03-aabc39faecd6"
      },
      "outputs": [
        {
          "ename": "ModuleNotFoundError",
          "evalue": "No module named 'textblob'",
          "output_type": "error",
          "traceback": [
            "\u001b[1;31m---------------------------------------------------------------------------\u001b[0m",
            "\u001b[1;31mModuleNotFoundError\u001b[0m                       Traceback (most recent call last)",
            "\u001b[1;32mc:\\Users\\Arjun\\Documents\\Github\\SoftwareTesting\\EECS_4312_Project.ipynb Cell 14\u001b[0m line \u001b[0;36m1\n\u001b[1;32m----> <a href='vscode-notebook-cell:/c%3A/Users/Arjun/Documents/Github/SoftwareTesting/EECS_4312_Project.ipynb#X16sZmlsZQ%3D%3D?line=0'>1</a>\u001b[0m \u001b[39mfrom\u001b[39;00m \u001b[39mtextblob\u001b[39;00m \u001b[39mimport\u001b[39;00m TextBlob\n\u001b[0;32m      <a href='vscode-notebook-cell:/c%3A/Users/Arjun/Documents/Github/SoftwareTesting/EECS_4312_Project.ipynb#X16sZmlsZQ%3D%3D?line=2'>3</a>\u001b[0m app_id \u001b[39m=\u001b[39m \u001b[39m'\u001b[39m\u001b[39mpt.cosmicode.guessup\u001b[39m\u001b[39m'\u001b[39m\n\u001b[0;32m      <a href='vscode-notebook-cell:/c%3A/Users/Arjun/Documents/Github/SoftwareTesting/EECS_4312_Project.ipynb#X16sZmlsZQ%3D%3D?line=3'>4</a>\u001b[0m reviews \u001b[39m=\u001b[39m reviews_all(app_id, sort\u001b[39m=\u001b[39mSort\u001b[39m.\u001b[39mMOST_RELEVANT, count\u001b[39m=\u001b[39m\u001b[39m250\u001b[39m)\n",
            "\u001b[1;31mModuleNotFoundError\u001b[0m: No module named 'textblob'"
          ]
        }
      ],
      "source": [
        "from textblob import TextBlob\n",
        "\n",
        "app_id = 'pt.cosmicode.guessup'\n",
        "reviews = reviews_all(app_id, sort=Sort.MOST_RELEVANT, count=250)\n",
        "review_data_textblob = []\n",
        "\n",
        "for review in reviews:\n",
        "    text = preprocess_text(review['content'])\n",
        "    blob = TextBlob(text)\n",
        "    polarity_score = blob.sentiment.polarity\n",
        "    review_data_textblob.append({'App’s package name': app_id, 'Review': text, 'Polarity': polarity_score})\n",
        "\n",
        "\n",
        "df = pd.DataFrame(review_data_textblob, columns=['App’s package name', 'Review', 'Polarity'])\n",
        "display(df)"
      ]
    },
    {
      "cell_type": "code",
      "execution_count": null,
      "metadata": {
        "colab": {
          "base_uri": "https://localhost:8080/",
          "height": 423
        },
        "id": "IyfF4AVXTkgh",
        "outputId": "426fbf92-2c3b-435f-e8af-c063b56b1efc"
      },
      "outputs": [
        {
          "data": {
            "text/html": [
              "\n",
              "  <div id=\"df-563f365c-989f-47eb-a520-aa2edd7eef50\" class=\"colab-df-container\">\n",
              "    <div>\n",
              "<style scoped>\n",
              "    .dataframe tbody tr th:only-of-type {\n",
              "        vertical-align: middle;\n",
              "    }\n",
              "\n",
              "    .dataframe tbody tr th {\n",
              "        vertical-align: top;\n",
              "    }\n",
              "\n",
              "    .dataframe thead th {\n",
              "        text-align: right;\n",
              "    }\n",
              "</style>\n",
              "<table border=\"1\" class=\"dataframe\">\n",
              "  <thead>\n",
              "    <tr style=\"text-align: right;\">\n",
              "      <th></th>\n",
              "      <th>App’s package name</th>\n",
              "      <th>Review</th>\n",
              "      <th>Polarity</th>\n",
              "    </tr>\n",
              "  </thead>\n",
              "  <tbody>\n",
              "    <tr>\n",
              "      <th>0</th>\n",
              "      <td>pt.cosmicode.guessup</td>\n",
              "      <td>paid thirty minutes dont extra categories ive ...</td>\n",
              "      <td>0.0000</td>\n",
              "    </tr>\n",
              "    <tr>\n",
              "      <th>1</th>\n",
              "      <td>pt.cosmicode.guessup</td>\n",
              "      <td>kids love game played bar friends brought home...</td>\n",
              "      <td>0.9804</td>\n",
              "    </tr>\n",
              "    <tr>\n",
              "      <th>2</th>\n",
              "      <td>pt.cosmicode.guessup</td>\n",
              "      <td>amazing love barely ads family love playing ga...</td>\n",
              "      <td>0.9721</td>\n",
              "    </tr>\n",
              "    <tr>\n",
              "      <th>3</th>\n",
              "      <td>pt.cosmicode.guessup</td>\n",
              "      <td>paid decks shows obnoxious video ads rounds id...</td>\n",
              "      <td>0.7964</td>\n",
              "    </tr>\n",
              "    <tr>\n",
              "      <th>4</th>\n",
              "      <td>pt.cosmicode.guessup</td>\n",
              "      <td>purchased adult themed pack download buy says ...</td>\n",
              "      <td>0.3400</td>\n",
              "    </tr>\n",
              "    <tr>\n",
              "      <th>...</th>\n",
              "      <td>...</td>\n",
              "      <td>...</td>\n",
              "      <td>...</td>\n",
              "    </tr>\n",
              "    <tr>\n",
              "      <th>471</th>\n",
              "      <td>pt.cosmicode.guessup</td>\n",
              "      <td>w</td>\n",
              "      <td>0.0000</td>\n",
              "    </tr>\n",
              "    <tr>\n",
              "      <th>472</th>\n",
              "      <td>pt.cosmicode.guessup</td>\n",
              "      <td>wow</td>\n",
              "      <td>0.5859</td>\n",
              "    </tr>\n",
              "    <tr>\n",
              "      <th>473</th>\n",
              "      <td>pt.cosmicode.guessup</td>\n",
              "      <td>daebak</td>\n",
              "      <td>0.0000</td>\n",
              "    </tr>\n",
              "    <tr>\n",
              "      <th>474</th>\n",
              "      <td>pt.cosmicode.guessup</td>\n",
              "      <td></td>\n",
              "      <td>0.0000</td>\n",
              "    </tr>\n",
              "    <tr>\n",
              "      <th>475</th>\n",
              "      <td>pt.cosmicode.guessup</td>\n",
              "      <td></td>\n",
              "      <td>0.0000</td>\n",
              "    </tr>\n",
              "  </tbody>\n",
              "</table>\n",
              "<p>476 rows × 3 columns</p>\n",
              "</div>\n",
              "    <div class=\"colab-df-buttons\">\n",
              "\n",
              "  <div class=\"colab-df-container\">\n",
              "    <button class=\"colab-df-convert\" onclick=\"convertToInteractive('df-563f365c-989f-47eb-a520-aa2edd7eef50')\"\n",
              "            title=\"Convert this dataframe to an interactive table.\"\n",
              "            style=\"display:none;\">\n",
              "\n",
              "  <svg xmlns=\"http://www.w3.org/2000/svg\" height=\"24px\" viewBox=\"0 -960 960 960\">\n",
              "    <path d=\"M120-120v-720h720v720H120Zm60-500h600v-160H180v160Zm220 220h160v-160H400v160Zm0 220h160v-160H400v160ZM180-400h160v-160H180v160Zm440 0h160v-160H620v160ZM180-180h160v-160H180v160Zm440 0h160v-160H620v160Z\"/>\n",
              "  </svg>\n",
              "    </button>\n",
              "\n",
              "  <style>\n",
              "    .colab-df-container {\n",
              "      display:flex;\n",
              "      gap: 12px;\n",
              "    }\n",
              "\n",
              "    .colab-df-convert {\n",
              "      background-color: #E8F0FE;\n",
              "      border: none;\n",
              "      border-radius: 50%;\n",
              "      cursor: pointer;\n",
              "      display: none;\n",
              "      fill: #1967D2;\n",
              "      height: 32px;\n",
              "      padding: 0 0 0 0;\n",
              "      width: 32px;\n",
              "    }\n",
              "\n",
              "    .colab-df-convert:hover {\n",
              "      background-color: #E2EBFA;\n",
              "      box-shadow: 0px 1px 2px rgba(60, 64, 67, 0.3), 0px 1px 3px 1px rgba(60, 64, 67, 0.15);\n",
              "      fill: #174EA6;\n",
              "    }\n",
              "\n",
              "    .colab-df-buttons div {\n",
              "      margin-bottom: 4px;\n",
              "    }\n",
              "\n",
              "    [theme=dark] .colab-df-convert {\n",
              "      background-color: #3B4455;\n",
              "      fill: #D2E3FC;\n",
              "    }\n",
              "\n",
              "    [theme=dark] .colab-df-convert:hover {\n",
              "      background-color: #434B5C;\n",
              "      box-shadow: 0px 1px 3px 1px rgba(0, 0, 0, 0.15);\n",
              "      filter: drop-shadow(0px 1px 2px rgba(0, 0, 0, 0.3));\n",
              "      fill: #FFFFFF;\n",
              "    }\n",
              "  </style>\n",
              "\n",
              "    <script>\n",
              "      const buttonEl =\n",
              "        document.querySelector('#df-563f365c-989f-47eb-a520-aa2edd7eef50 button.colab-df-convert');\n",
              "      buttonEl.style.display =\n",
              "        google.colab.kernel.accessAllowed ? 'block' : 'none';\n",
              "\n",
              "      async function convertToInteractive(key) {\n",
              "        const element = document.querySelector('#df-563f365c-989f-47eb-a520-aa2edd7eef50');\n",
              "        const dataTable =\n",
              "          await google.colab.kernel.invokeFunction('convertToInteractive',\n",
              "                                                    [key], {});\n",
              "        if (!dataTable) return;\n",
              "\n",
              "        const docLinkHtml = 'Like what you see? Visit the ' +\n",
              "          '<a target=\"_blank\" href=https://colab.research.google.com/notebooks/data_table.ipynb>data table notebook</a>'\n",
              "          + ' to learn more about interactive tables.';\n",
              "        element.innerHTML = '';\n",
              "        dataTable['output_type'] = 'display_data';\n",
              "        await google.colab.output.renderOutput(dataTable, element);\n",
              "        const docLink = document.createElement('div');\n",
              "        docLink.innerHTML = docLinkHtml;\n",
              "        element.appendChild(docLink);\n",
              "      }\n",
              "    </script>\n",
              "  </div>\n",
              "\n",
              "\n",
              "<div id=\"df-258ff491-5eae-40fc-8964-31ba077d3f6a\">\n",
              "  <button class=\"colab-df-quickchart\" onclick=\"quickchart('df-258ff491-5eae-40fc-8964-31ba077d3f6a')\"\n",
              "            title=\"Suggest charts.\"\n",
              "            style=\"display:none;\">\n",
              "\n",
              "<svg xmlns=\"http://www.w3.org/2000/svg\" height=\"24px\"viewBox=\"0 0 24 24\"\n",
              "     width=\"24px\">\n",
              "    <g>\n",
              "        <path d=\"M19 3H5c-1.1 0-2 .9-2 2v14c0 1.1.9 2 2 2h14c1.1 0 2-.9 2-2V5c0-1.1-.9-2-2-2zM9 17H7v-7h2v7zm4 0h-2V7h2v10zm4 0h-2v-4h2v4z\"/>\n",
              "    </g>\n",
              "</svg>\n",
              "  </button>\n",
              "\n",
              "<style>\n",
              "  .colab-df-quickchart {\n",
              "      --bg-color: #E8F0FE;\n",
              "      --fill-color: #1967D2;\n",
              "      --hover-bg-color: #E2EBFA;\n",
              "      --hover-fill-color: #174EA6;\n",
              "      --disabled-fill-color: #AAA;\n",
              "      --disabled-bg-color: #DDD;\n",
              "  }\n",
              "\n",
              "  [theme=dark] .colab-df-quickchart {\n",
              "      --bg-color: #3B4455;\n",
              "      --fill-color: #D2E3FC;\n",
              "      --hover-bg-color: #434B5C;\n",
              "      --hover-fill-color: #FFFFFF;\n",
              "      --disabled-bg-color: #3B4455;\n",
              "      --disabled-fill-color: #666;\n",
              "  }\n",
              "\n",
              "  .colab-df-quickchart {\n",
              "    background-color: var(--bg-color);\n",
              "    border: none;\n",
              "    border-radius: 50%;\n",
              "    cursor: pointer;\n",
              "    display: none;\n",
              "    fill: var(--fill-color);\n",
              "    height: 32px;\n",
              "    padding: 0;\n",
              "    width: 32px;\n",
              "  }\n",
              "\n",
              "  .colab-df-quickchart:hover {\n",
              "    background-color: var(--hover-bg-color);\n",
              "    box-shadow: 0 1px 2px rgba(60, 64, 67, 0.3), 0 1px 3px 1px rgba(60, 64, 67, 0.15);\n",
              "    fill: var(--button-hover-fill-color);\n",
              "  }\n",
              "\n",
              "  .colab-df-quickchart-complete:disabled,\n",
              "  .colab-df-quickchart-complete:disabled:hover {\n",
              "    background-color: var(--disabled-bg-color);\n",
              "    fill: var(--disabled-fill-color);\n",
              "    box-shadow: none;\n",
              "  }\n",
              "\n",
              "  .colab-df-spinner {\n",
              "    border: 2px solid var(--fill-color);\n",
              "    border-color: transparent;\n",
              "    border-bottom-color: var(--fill-color);\n",
              "    animation:\n",
              "      spin 1s steps(1) infinite;\n",
              "  }\n",
              "\n",
              "  @keyframes spin {\n",
              "    0% {\n",
              "      border-color: transparent;\n",
              "      border-bottom-color: var(--fill-color);\n",
              "      border-left-color: var(--fill-color);\n",
              "    }\n",
              "    20% {\n",
              "      border-color: transparent;\n",
              "      border-left-color: var(--fill-color);\n",
              "      border-top-color: var(--fill-color);\n",
              "    }\n",
              "    30% {\n",
              "      border-color: transparent;\n",
              "      border-left-color: var(--fill-color);\n",
              "      border-top-color: var(--fill-color);\n",
              "      border-right-color: var(--fill-color);\n",
              "    }\n",
              "    40% {\n",
              "      border-color: transparent;\n",
              "      border-right-color: var(--fill-color);\n",
              "      border-top-color: var(--fill-color);\n",
              "    }\n",
              "    60% {\n",
              "      border-color: transparent;\n",
              "      border-right-color: var(--fill-color);\n",
              "    }\n",
              "    80% {\n",
              "      border-color: transparent;\n",
              "      border-right-color: var(--fill-color);\n",
              "      border-bottom-color: var(--fill-color);\n",
              "    }\n",
              "    90% {\n",
              "      border-color: transparent;\n",
              "      border-bottom-color: var(--fill-color);\n",
              "    }\n",
              "  }\n",
              "</style>\n",
              "\n",
              "  <script>\n",
              "    async function quickchart(key) {\n",
              "      const quickchartButtonEl =\n",
              "        document.querySelector('#' + key + ' button');\n",
              "      quickchartButtonEl.disabled = true;  // To prevent multiple clicks.\n",
              "      quickchartButtonEl.classList.add('colab-df-spinner');\n",
              "      try {\n",
              "        const charts = await google.colab.kernel.invokeFunction(\n",
              "            'suggestCharts', [key], {});\n",
              "      } catch (error) {\n",
              "        console.error('Error during call to suggestCharts:', error);\n",
              "      }\n",
              "      quickchartButtonEl.classList.remove('colab-df-spinner');\n",
              "      quickchartButtonEl.classList.add('colab-df-quickchart-complete');\n",
              "    }\n",
              "    (() => {\n",
              "      let quickchartButtonEl =\n",
              "        document.querySelector('#df-258ff491-5eae-40fc-8964-31ba077d3f6a button');\n",
              "      quickchartButtonEl.style.display =\n",
              "        google.colab.kernel.accessAllowed ? 'block' : 'none';\n",
              "    })();\n",
              "  </script>\n",
              "</div>\n",
              "    </div>\n",
              "  </div>\n"
            ],
            "text/plain": [
              "       App’s package name                                             Review  \\\n",
              "0    pt.cosmicode.guessup  paid thirty minutes dont extra categories ive ...   \n",
              "1    pt.cosmicode.guessup  kids love game played bar friends brought home...   \n",
              "2    pt.cosmicode.guessup  amazing love barely ads family love playing ga...   \n",
              "3    pt.cosmicode.guessup  paid decks shows obnoxious video ads rounds id...   \n",
              "4    pt.cosmicode.guessup  purchased adult themed pack download buy says ...   \n",
              "..                    ...                                                ...   \n",
              "471  pt.cosmicode.guessup                                                  w   \n",
              "472  pt.cosmicode.guessup                                                wow   \n",
              "473  pt.cosmicode.guessup                                             daebak   \n",
              "474  pt.cosmicode.guessup                                                      \n",
              "475  pt.cosmicode.guessup                                                      \n",
              "\n",
              "     Polarity  \n",
              "0      0.0000  \n",
              "1      0.9804  \n",
              "2      0.9721  \n",
              "3      0.7964  \n",
              "4      0.3400  \n",
              "..        ...  \n",
              "471    0.0000  \n",
              "472    0.5859  \n",
              "473    0.0000  \n",
              "474    0.0000  \n",
              "475    0.0000  \n",
              "\n",
              "[476 rows x 3 columns]"
            ]
          },
          "metadata": {},
          "output_type": "display_data"
        }
      ],
      "source": [
        "from vaderSentiment.vaderSentiment import SentimentIntensityAnalyzer\n",
        "# Create an instance of the Vader sentiment analyzer\n",
        "analyzer = SentimentIntensityAnalyzer()\n",
        "\n",
        "# Create an empty list to store the review data\n",
        "review_data_vader = []\n",
        "\n",
        "# Loop through the reviews and apply sentiment analysis using Vader\n",
        "for review in reviews:\n",
        "    text = preprocess_text(review['content'])\n",
        "    sentiment_scores = analyzer.polarity_scores(text)\n",
        "    polarity_score = sentiment_scores['compound']\n",
        "    review_data_vader.append({'App’s package name': app_id, 'Review': text, 'Polarity': polarity_score})\n",
        "\n",
        "# Create a DataFrame from the review data\n",
        "df = pd.DataFrame(review_data_vader, columns=['App’s package name', 'Review', 'Polarity'])\n",
        "display(df)"
      ]
    },
    {
      "cell_type": "markdown",
      "metadata": {
        "id": "WGkaBUY8Uwf5"
      },
      "source": [
        "# How does the sentiments retrieved by Textblob and Vader compare with each other? How do you interpret the similarity/difference? Which one is the best option for review analysis of your apps? Why?"
      ]
    },
    {
      "cell_type": "markdown",
      "metadata": {
        "id": "npAV5moVUvsX"
      },
      "source": [
        "Below is a plot of the Sentiment scores for each of the vader and textblob outputs, the x axis is the review index. The red X's mark the value for the difference in the polarity scores: Vader - Textblob. All 450 reviews were used."
      ]
    },
    {
      "cell_type": "code",
      "execution_count": null,
      "metadata": {
        "colab": {
          "base_uri": "https://localhost:8080/",
          "height": 472
        },
        "id": "vlpUoJT8IIKV",
        "outputId": "b8713c38-6fc8-4151-b40f-71eb87fe7cbf"
      },
      "outputs": [
        {
          "data": {
            "image/png": "[encoded data removed]",
            "text/plain": [
              "<Figure size 640x480 with 1 Axes>"
            ]
          },
          "metadata": {},
          "output_type": "display_data"
        }
      ],
      "source": [
        "import numpy as np\n",
        "import matplotlib.pyplot as plt\n",
        "\n",
        "polarity_scores_v = [review['Polarity'] for review in review_data_vader]\n",
        "polarity_scores_txt = [review['Polarity'] for review in review_data_textblob]\n",
        "\n",
        "# Compute difference between Vader and Textblob scores\n",
        "score_diffs = [np.abs(polarity_scores_v[i] - polarity_scores_txt[i]) for i in range(len(polarity_scores_v))]\n",
        "\n",
        "# Create scatter plot with score differences\n",
        "plt.scatter(range(len(score_diffs)), score_diffs, c='r', marker='x', label='Vader - Textblob')\n",
        "\n",
        "\n",
        "plt.xlabel('Review Index')\n",
        "plt.ylabel('Difference in Polarity Score')\n",
        "plt.title('Difference in score: Vader minus Textblob')\n",
        "plt.legend()\n",
        "plt.grid()\n",
        "plt.show()"
      ]
    },
    {
      "cell_type": "markdown",
      "metadata": {
        "id": "Ar73AH66ONag"
      },
      "source": [
        "From the graph above we can see that the difference in polarity score is typically 0.6 or below, with a maximum difference being 2.0, and minimum difference being 0 which indicates no difference at all. A difference of 0.6 or below is relatively low and indicates that there is not a stark difference between the Vader and Textblob sentiment scores."
      ]
    },
    {
      "cell_type": "code",
      "execution_count": null,
      "metadata": {
        "colab": {
          "base_uri": "https://localhost:8080/"
        },
        "id": "Iz-h1ETDNwnC",
        "outputId": "df52795a-78e8-4395-ffa2-b7f4b4255b5f"
      },
      "outputs": [
        {
          "name": "stdout",
          "output_type": "stream",
          "text": [
            "Correlation Coefficient: 0.6430737647486677\n"
          ]
        }
      ],
      "source": [
        "# Calculate correlation coefficient\n",
        "corr_coef = np.corrcoef(polarity_scores_v, polarity_scores_txt)[0, 1]\n",
        "\n",
        "# Print correlation coefficient\n",
        "print('Correlation Coefficient:', corr_coef)"
      ]
    },
    {
      "cell_type": "markdown",
      "metadata": {
        "id": "aNa7F0NiWhaT"
      },
      "source": [
        "The correlation coefficient is 0.653 which indicates a moderatley strong correlation. The range of the correlation coeficient is between -1 to +1, and values closer to +1 indicating a strong positive correlation, therfore 0.653 shows relatively storng correlation between the scores of vader and Textblob.\n",
        "\n",
        "Vader is focused on social media -- it uses emojies, puncutatuion such as exclamation marks to determine sentiment. In this way, Vader is not as usefuel since in our analysis we remove all emojies and punctuation. Vader also puts emphasis on the case of the lettering, and uppercase words have greater sentiment than lower case. In our analysis we make all words lowercase, so this aspect of Vader is not as useful to us in the way we cleaned the text.\n",
        "\n",
        "However, TextBlob usually produces more extreme values -- values closer to either -1 or + 1. This is because it assigns a sentiment polarity score to each word in the text and then aggregates them to obtain the overall sentiment score. Vader put more emphasis on the precense of negation words, and intensifiers.\n",
        "\n",
        "source: https://pub.towardsai.net/textblob-vs-vader-for-sentiment-analysis-using-python-76883d40f9ae\n",
        "\n",
        "**Below is a code that shows how changes in punctutation/emojis/capitilization change score in Vader sentiment:**"
      ]
    },
    {
      "cell_type": "code",
      "execution_count": null,
      "metadata": {
        "colab": {
          "base_uri": "https://localhost:8080/"
        },
        "id": "u_h3Cw_LX9LF",
        "outputId": "de748ec8-282a-4b6d-f699-c8bb5296e29c"
      },
      "outputs": [
        {
          "name": "stdout",
          "output_type": "stream",
          "text": [
            "===========================\n",
            "Vader Analysis:\n",
            "\n",
            "No modifications: 0.5859\n",
            "Only exclamation: 0.6239\n",
            "Uppercase and exclamation: 0.7027\n",
            "emoji: 0.7783\n",
            "\n",
            "===========================\n",
            "TextBlob Analysis:\n",
            "\n",
            "No modifications: 0.6000000000000001\n",
            "Only exclamation: 0.7500000000000001\n",
            "Uppercase and exclamation: 0.7500000000000001\n",
            "emoji: 0.6000000000000001\n"
          ]
        }
      ],
      "source": [
        "print(\"===========================\\nVader Analysis:\\n\")\n",
        "#Below are print statements of Vader sentiments when exclamationd is added/removed and emojies and uppercase to lowercase\n",
        "print(\"No modifications:\", analyzer.polarity_scores(\"This is an amazing app\")['compound'])\n",
        "print(\"Only exclamation:\", analyzer.polarity_scores(\"This is an amazing app!\")['compound'])\n",
        "print(\"Uppercase and exclamation:\", analyzer.polarity_scores(\"This is an AMAZING app!\")['compound'])\n",
        "print(\"emoji:\", analyzer.polarity_scores(\"This is an amazing app 😁\")['compound'])\n",
        "\n",
        "print(\"\\n===========================\\nTextBlob Analysis:\\n\")\n",
        "print(\"No modifications:\", TextBlob(\"This is an amazing app\").sentiment.polarity)\n",
        "print(\"Only exclamation:\", TextBlob(\"This is an amazing app!\").sentiment.polarity)\n",
        "print(\"Uppercase and exclamation:\", TextBlob(\"This is an AMAZING app!\").sentiment.polarity)\n",
        "print(\"emoji:\", TextBlob(\"This is an amazing app 😁\").sentiment.polarity)\n",
        "\n"
      ]
    },
    {
      "cell_type": "markdown",
      "metadata": {
        "id": "q20qD5AwPaPT"
      },
      "source": [
        "Given what we know from the way Vader functions and the results shown in the code above, Vader is the better choice. The main reason why it is better is because Vader uses factors that could be important for our use such as emojis and wether the letters are lower or uppercase. For this assignment, we cleaned the text in such a way as to remove the punctuation, emojies and uppercases -- but these are all present in the Google reviews and can indicate sentiment. Also, since Vader is typically used for social media apps and used for informal language, it can be useful for Google reviews where the language is typically like that."
      ]
    },
    {
      "cell_type": "markdown",
      "metadata": {
        "id": "yMKH8SYcD3Jr"
      },
      "source": [
        "# TASK 4: TOPIC MODELING Using LDA"
      ]
    },
    {
      "cell_type": "code",
      "execution_count": null,
      "metadata": {
        "colab": {
          "base_uri": "https://localhost:8080/"
        },
        "id": "1HdZgjaXVWnq",
        "outputId": "08a172c5-ab4b-47bd-b9bd-7ac6a07b06df"
      },
      "outputs": [
        {
          "name": "stdout",
          "output_type": "stream",
          "text": [
            "Topic 1: ['wont', 'download', 'load', 'let', 'install', 'game', 'open', 'hi', 'play', 'loading', 'ur', 'app', 'start', 'n']\n",
            "Topic 2: ['ok', 'decks', 'deck', 'game', 'stars', 'new', 'boring', 'star', 'stupid', 'things', 'got', 'interesting', 'paid', 'cards']\n",
            "Topic 3: ['work', 'app', 'phone', 'doesnt', 'head', 'game', 'tried', 'd', 'play', 'works', 'fix', 'says', 'didnt', 'times']\n",
            "Topic 4: ['fun', 'game', 'good', 'play', 'family', 'friends', 'best', 'amazing', 'great', 'nice', 'played', 'time', 'funny', 'super']\n",
            "Topic 5: ['time', 'takes', 'game', 'load', 'long', 'play', 'try', 'download', 'app', 'forever', 'crashes', 'addictive', 'idk', 'took']\n",
            "Topic 6: ['love', 'game', 'ellen', 'loved', 'playing', 'thanks', 'thank', 'sensor', 'yes', 'absolutely', 'stop', 'challenging', 'addicting', 'sooo']\n",
            "Topic 7: ['cool', 'pass', 'game', 'keeps', 'correct', 'working', 'slow', 'saying', 'fix', 'says', 'crashing', 'right', 'kept', 'tilt']\n",
            "Topic 8: ['u', 'free', 'games', 'decks', 'pay', 'categories', 'need', 'wish', 'better', 'money', 'buy', 'play', 'charades', 'ones']\n",
            "Topic 9: ['like', 'dont', 'game', 'bad', 'hate', 'want', 'know', 'heads', 'play', 'people', 'think', 'okay', 'sucks', 'im']\n",
            "Topic 10: ['awesome', 'great', 'game', 'video', 'omg', 'app', 'blast', 'videos', 'suck', 'kids', 'word', 'happy', 'watch', 'little']\n"
          ]
        }
      ],
      "source": [
        "import pandas as pd\n",
        "from google_play_scraper import Sort, reviews_all\n",
        "from gensim.corpora.dictionary import Dictionary\n",
        "from gensim.models.ldamodel import LdaModel\n",
        "from gensim.models import CoherenceModel\n",
        "import spacy\n",
        "\n",
        "app_id = 'com.wb.headsup'\n",
        "\n",
        "# Set the number of reviews you want to extract\n",
        "num_reviews = 1000\n",
        "\n",
        "# Use the reviews_all() function to extract the reviews\n",
        "reviews = reviews_all(app_id, sort=Sort.MOST_RELEVANT, count=num_reviews)\n",
        "\n",
        "def preprocess_text2(text):\n",
        "    if text is None:\n",
        "      return []\n",
        "    text = remove_punctuation(text)\n",
        "    text = demoji.replace(text, '')\n",
        "    text = unidecode(text)\n",
        "    text = convert_numbers(text)\n",
        "    text= text.strip()\n",
        "    text = text.lower()\n",
        "    text = remove_stopwords(text)\n",
        "    lemmatizer = WordNetLemmatizer()\n",
        "    text = lemmatizer.lemmatize(text)\n",
        "    tokens = text.split()\n",
        "    # # Remove stopwords\n",
        "    # tokens = [t for t in tokens if t not in stopwords]\n",
        "    return tokens\n",
        "\n",
        "# Preprocess the reviews\n",
        "review_tokens = [preprocess_text2(review['content']) for review in reviews]\n",
        "\n",
        "# Create a dictionary from the tokens\n",
        "dictionary = Dictionary(review_tokens)\n",
        "\n",
        "# Create a bag-of-words corpus from the dictionary\n",
        "corpus = [dictionary.doc2bow(tokens) for tokens in review_tokens]\n",
        "\n",
        "# Train the LDA model on the corpus\n",
        "num_topics = 10\n",
        "lda_model = LdaModel(corpus=corpus, id2word=dictionary, num_topics=num_topics, passes=10)\n",
        "\n",
        "# Print the topics\n",
        "for i, topic in lda_model.show_topics(num_topics=num_topics, num_words=14, formatted=False):\n",
        "    print('Topic {}: {}'.format(i+1, [word for word, _ in topic]))"
      ]
    },
    {
      "cell_type": "markdown",
      "metadata": {
        "id": "F4V98roBcUGY"
      },
      "source": [
        "There are some commonalities in the words that are in the same topic: game, play; awesome, amazing; family, friends; decks, categories"
      ]
    },
    {
      "cell_type": "markdown",
      "metadata": {
        "id": "-wxcw_v1N_Sa"
      },
      "source": [
        "### III. How do these review topics (i.e. summarized user feedback) compare to the software feature clusters you extracted in Assignment 1?\n",
        "\n"
      ]
    },
    {
      "cell_type": "markdown",
      "metadata": {
        "id": "Yuwd3c9YJmZr"
      },
      "source": [
        "Some of the feature clusters do match with the topics listed above. Some of the feature clusters are:\n",
        "* The system shall allow for one of more person to play the game **(Matches with topics: family, friends, parties)**\n",
        "* The system shall present a number of categories before statrting their game **(Matches with topics: categories, deck)**\n",
        "* The system will allow for motion of the device to indicate a correct or incorrect guess **(sensor, forehead)**\n",
        "\n",
        "\n"
      ]
    },
    {
      "cell_type": "markdown",
      "metadata": {
        "id": "Y9x8PQn5Ui_Y"
      },
      "source": [
        "### IV. How do you explain the differences in terms of accuracy of the model and the size of data?\n",
        "\n"
      ]
    },
    {
      "cell_type": "markdown",
      "metadata": {
        "id": "7GEUqjXHlMW1"
      },
      "source": [
        "The data we are using is from HeadsUp, which is the competitor to my SUD, so there are some topics that will not be relevant to my SUD's feature clusters. But a main reason as to why the topics do not reflect some of the feature clusters is because some of the features are so obvious to be included in the app that they are not mentioned in the reviews as a result. For example, one of the feature clusters I identified is that there are multiple language options. But this is never mentioned in the reviews because it is almost always expected to be included in a mainstream app.\n"
      ]
    },
    {
      "cell_type": "markdown",
      "metadata": {
        "id": "ZmSyXri4aiCx"
      },
      "source": [
        "### V. Does any of the topics relate to the core functionalities you identified? Why?"
      ]
    },
    {
      "cell_type": "markdown",
      "metadata": {
        "id": "Q5Li_u1OlNEk"
      },
      "source": [
        "Some of the core functionalities are reflected in the topics such as the multiplayer feature of being able to play with family and friends. The aspect of being able to choose categories from decks is also present. Another core feature is being able to set the time of a round and I noticed this is mentioned in the topics as \"time\" or \"round\". Many of the topics do not relate to features or core functionalities however, many are just characteristics such as: amazing, fun, awesome. I think this is because the model is not trained on focusing on features, instead of looking at other unrelated words. Another reason could be that the data does not reflect core functionalities -- perhaps the sample size should be raised or other sources can be used. There are also some core functionalities that I may have missed in identifying in the previous assignments, for example I did not include the aspect of the sensor or motion detection as a core functionality but with it being mentioned as often as it is -- it should be a core functionality. Also internet capability is something that is a topic and I notice now should be a core functionality.\n"
      ]
    },
    {
      "cell_type": "markdown",
      "metadata": {
        "id": "S4LeyuZvU4uV"
      },
      "source": [
        "# TASK 5: RECOMMENDATION"
      ]
    },
    {
      "cell_type": "markdown",
      "metadata": {
        "id": "oUnrPSs8jmdf"
      },
      "source": [
        "This is a code to see the top 100 negative reviews (lowest sentiment) so that I can determine what features people are asking for."
      ]
    },
    {
      "cell_type": "code",
      "execution_count": null,
      "metadata": {
        "colab": {
          "base_uri": "https://localhost:8080/",
          "height": 423
        },
        "id": "j7a7y7Q2hQCU",
        "outputId": "56e62b01-e5b0-4353-f0b6-6e00aeb9daeb"
      },
      "outputs": [
        {
          "data": {
            "text/html": [
              "\n",
              "  <div id=\"df-11b4106a-886f-49fa-af1f-160256f33ebf\" class=\"colab-df-container\">\n",
              "    <div>\n",
              "<style scoped>\n",
              "    .dataframe tbody tr th:only-of-type {\n",
              "        vertical-align: middle;\n",
              "    }\n",
              "\n",
              "    .dataframe tbody tr th {\n",
              "        vertical-align: top;\n",
              "    }\n",
              "\n",
              "    .dataframe thead th {\n",
              "        text-align: right;\n",
              "    }\n",
              "</style>\n",
              "<table border=\"1\" class=\"dataframe\">\n",
              "  <thead>\n",
              "    <tr style=\"text-align: right;\">\n",
              "      <th></th>\n",
              "      <th>App’s package name</th>\n",
              "      <th>Review</th>\n",
              "      <th>Polarity</th>\n",
              "    </tr>\n",
              "  </thead>\n",
              "  <tbody>\n",
              "    <tr>\n",
              "      <th>0</th>\n",
              "      <td>pt.cosmicode.guessup</td>\n",
              "      <td>app worked fine extremely difficult unsubscrib...</td>\n",
              "      <td>-0.7713</td>\n",
              "    </tr>\n",
              "    <tr>\n",
              "      <th>1</th>\n",
              "      <td>pt.cosmicode.guessup</td>\n",
              "      <td>fun decent game timer ridiculous hate pauses a...</td>\n",
              "      <td>-0.7415</td>\n",
              "    </tr>\n",
              "    <tr>\n",
              "      <th>2</th>\n",
              "      <td>pt.cosmicode.guessup</td>\n",
              "      <td>im sorry boring answers wrong correct christma...</td>\n",
              "      <td>-0.6808</td>\n",
              "    </tr>\n",
              "    <tr>\n",
              "      <th>3</th>\n",
              "      <td>pt.cosmicode.guessup</td>\n",
              "      <td>hate</td>\n",
              "      <td>-0.5719</td>\n",
              "    </tr>\n",
              "    <tr>\n",
              "      <th>4</th>\n",
              "      <td>pt.cosmicode.guessup</td>\n",
              "      <td>hate</td>\n",
              "      <td>-0.5719</td>\n",
              "    </tr>\n",
              "    <tr>\n",
              "      <th>...</th>\n",
              "      <td>...</td>\n",
              "      <td>...</td>\n",
              "      <td>...</td>\n",
              "    </tr>\n",
              "    <tr>\n",
              "      <th>95</th>\n",
              "      <td>pt.cosmicode.guessup</td>\n",
              "      <td>aone supper</td>\n",
              "      <td>0.0000</td>\n",
              "    </tr>\n",
              "    <tr>\n",
              "      <th>96</th>\n",
              "      <td>pt.cosmicode.guessup</td>\n",
              "      <td>meus amigos quebraram minha perna tentando des...</td>\n",
              "      <td>0.0000</td>\n",
              "    </tr>\n",
              "    <tr>\n",
              "      <th>97</th>\n",
              "      <td>pt.cosmicode.guessup</td>\n",
              "      <td>la verdad tuve muchos problemas por que decia ...</td>\n",
              "      <td>0.0000</td>\n",
              "    </tr>\n",
              "    <tr>\n",
              "      <th>98</th>\n",
              "      <td>pt.cosmicode.guessup</td>\n",
              "      <td>tienes peliculas que son tan populareslo mismo...</td>\n",
              "      <td>0.0000</td>\n",
              "    </tr>\n",
              "    <tr>\n",
              "      <th>99</th>\n",
              "      <td>pt.cosmicode.guessup</td>\n",
              "      <td>tutorial required</td>\n",
              "      <td>0.0000</td>\n",
              "    </tr>\n",
              "  </tbody>\n",
              "</table>\n",
              "<p>100 rows × 3 columns</p>\n",
              "</div>\n",
              "    <div class=\"colab-df-buttons\">\n",
              "\n",
              "  <div class=\"colab-df-container\">\n",
              "    <button class=\"colab-df-convert\" onclick=\"convertToInteractive('df-11b4106a-886f-49fa-af1f-160256f33ebf')\"\n",
              "            title=\"Convert this dataframe to an interactive table.\"\n",
              "            style=\"display:none;\">\n",
              "\n",
              "  <svg xmlns=\"http://www.w3.org/2000/svg\" height=\"24px\" viewBox=\"0 -960 960 960\">\n",
              "    <path d=\"M120-120v-720h720v720H120Zm60-500h600v-160H180v160Zm220 220h160v-160H400v160Zm0 220h160v-160H400v160ZM180-400h160v-160H180v160Zm440 0h160v-160H620v160ZM180-180h160v-160H180v160Zm440 0h160v-160H620v160Z\"/>\n",
              "  </svg>\n",
              "    </button>\n",
              "\n",
              "  <style>\n",
              "    .colab-df-container {\n",
              "      display:flex;\n",
              "      gap: 12px;\n",
              "    }\n",
              "\n",
              "    .colab-df-convert {\n",
              "      background-color: #E8F0FE;\n",
              "      border: none;\n",
              "      border-radius: 50%;\n",
              "      cursor: pointer;\n",
              "      display: none;\n",
              "      fill: #1967D2;\n",
              "      height: 32px;\n",
              "      padding: 0 0 0 0;\n",
              "      width: 32px;\n",
              "    }\n",
              "\n",
              "    .colab-df-convert:hover {\n",
              "      background-color: #E2EBFA;\n",
              "      box-shadow: 0px 1px 2px rgba(60, 64, 67, 0.3), 0px 1px 3px 1px rgba(60, 64, 67, 0.15);\n",
              "      fill: #174EA6;\n",
              "    }\n",
              "\n",
              "    .colab-df-buttons div {\n",
              "      margin-bottom: 4px;\n",
              "    }\n",
              "\n",
              "    [theme=dark] .colab-df-convert {\n",
              "      background-color: #3B4455;\n",
              "      fill: #D2E3FC;\n",
              "    }\n",
              "\n",
              "    [theme=dark] .colab-df-convert:hover {\n",
              "      background-color: #434B5C;\n",
              "      box-shadow: 0px 1px 3px 1px rgba(0, 0, 0, 0.15);\n",
              "      filter: drop-shadow(0px 1px 2px rgba(0, 0, 0, 0.3));\n",
              "      fill: #FFFFFF;\n",
              "    }\n",
              "  </style>\n",
              "\n",
              "    <script>\n",
              "      const buttonEl =\n",
              "        document.querySelector('#df-11b4106a-886f-49fa-af1f-160256f33ebf button.colab-df-convert');\n",
              "      buttonEl.style.display =\n",
              "        google.colab.kernel.accessAllowed ? 'block' : 'none';\n",
              "\n",
              "      async function convertToInteractive(key) {\n",
              "        const element = document.querySelector('#df-11b4106a-886f-49fa-af1f-160256f33ebf');\n",
              "        const dataTable =\n",
              "          await google.colab.kernel.invokeFunction('convertToInteractive',\n",
              "                                                    [key], {});\n",
              "        if (!dataTable) return;\n",
              "\n",
              "        const docLinkHtml = 'Like what you see? Visit the ' +\n",
              "          '<a target=\"_blank\" href=https://colab.research.google.com/notebooks/data_table.ipynb>data table notebook</a>'\n",
              "          + ' to learn more about interactive tables.';\n",
              "        element.innerHTML = '';\n",
              "        dataTable['output_type'] = 'display_data';\n",
              "        await google.colab.output.renderOutput(dataTable, element);\n",
              "        const docLink = document.createElement('div');\n",
              "        docLink.innerHTML = docLinkHtml;\n",
              "        element.appendChild(docLink);\n",
              "      }\n",
              "    </script>\n",
              "  </div>\n",
              "\n",
              "\n",
              "<div id=\"df-2992eafd-7d5c-481c-b36c-097880c9073f\">\n",
              "  <button class=\"colab-df-quickchart\" onclick=\"quickchart('df-2992eafd-7d5c-481c-b36c-097880c9073f')\"\n",
              "            title=\"Suggest charts.\"\n",
              "            style=\"display:none;\">\n",
              "\n",
              "<svg xmlns=\"http://www.w3.org/2000/svg\" height=\"24px\"viewBox=\"0 0 24 24\"\n",
              "     width=\"24px\">\n",
              "    <g>\n",
              "        <path d=\"M19 3H5c-1.1 0-2 .9-2 2v14c0 1.1.9 2 2 2h14c1.1 0 2-.9 2-2V5c0-1.1-.9-2-2-2zM9 17H7v-7h2v7zm4 0h-2V7h2v10zm4 0h-2v-4h2v4z\"/>\n",
              "    </g>\n",
              "</svg>\n",
              "  </button>\n",
              "\n",
              "<style>\n",
              "  .colab-df-quickchart {\n",
              "      --bg-color: #E8F0FE;\n",
              "      --fill-color: #1967D2;\n",
              "      --hover-bg-color: #E2EBFA;\n",
              "      --hover-fill-color: #174EA6;\n",
              "      --disabled-fill-color: #AAA;\n",
              "      --disabled-bg-color: #DDD;\n",
              "  }\n",
              "\n",
              "  [theme=dark] .colab-df-quickchart {\n",
              "      --bg-color: #3B4455;\n",
              "      --fill-color: #D2E3FC;\n",
              "      --hover-bg-color: #434B5C;\n",
              "      --hover-fill-color: #FFFFFF;\n",
              "      --disabled-bg-color: #3B4455;\n",
              "      --disabled-fill-color: #666;\n",
              "  }\n",
              "\n",
              "  .colab-df-quickchart {\n",
              "    background-color: var(--bg-color);\n",
              "    border: none;\n",
              "    border-radius: 50%;\n",
              "    cursor: pointer;\n",
              "    display: none;\n",
              "    fill: var(--fill-color);\n",
              "    height: 32px;\n",
              "    padding: 0;\n",
              "    width: 32px;\n",
              "  }\n",
              "\n",
              "  .colab-df-quickchart:hover {\n",
              "    background-color: var(--hover-bg-color);\n",
              "    box-shadow: 0 1px 2px rgba(60, 64, 67, 0.3), 0 1px 3px 1px rgba(60, 64, 67, 0.15);\n",
              "    fill: var(--button-hover-fill-color);\n",
              "  }\n",
              "\n",
              "  .colab-df-quickchart-complete:disabled,\n",
              "  .colab-df-quickchart-complete:disabled:hover {\n",
              "    background-color: var(--disabled-bg-color);\n",
              "    fill: var(--disabled-fill-color);\n",
              "    box-shadow: none;\n",
              "  }\n",
              "\n",
              "  .colab-df-spinner {\n",
              "    border: 2px solid var(--fill-color);\n",
              "    border-color: transparent;\n",
              "    border-bottom-color: var(--fill-color);\n",
              "    animation:\n",
              "      spin 1s steps(1) infinite;\n",
              "  }\n",
              "\n",
              "  @keyframes spin {\n",
              "    0% {\n",
              "      border-color: transparent;\n",
              "      border-bottom-color: var(--fill-color);\n",
              "      border-left-color: var(--fill-color);\n",
              "    }\n",
              "    20% {\n",
              "      border-color: transparent;\n",
              "      border-left-color: var(--fill-color);\n",
              "      border-top-color: var(--fill-color);\n",
              "    }\n",
              "    30% {\n",
              "      border-color: transparent;\n",
              "      border-left-color: var(--fill-color);\n",
              "      border-top-color: var(--fill-color);\n",
              "      border-right-color: var(--fill-color);\n",
              "    }\n",
              "    40% {\n",
              "      border-color: transparent;\n",
              "      border-right-color: var(--fill-color);\n",
              "      border-top-color: var(--fill-color);\n",
              "    }\n",
              "    60% {\n",
              "      border-color: transparent;\n",
              "      border-right-color: var(--fill-color);\n",
              "    }\n",
              "    80% {\n",
              "      border-color: transparent;\n",
              "      border-right-color: var(--fill-color);\n",
              "      border-bottom-color: var(--fill-color);\n",
              "    }\n",
              "    90% {\n",
              "      border-color: transparent;\n",
              "      border-bottom-color: var(--fill-color);\n",
              "    }\n",
              "  }\n",
              "</style>\n",
              "\n",
              "  <script>\n",
              "    async function quickchart(key) {\n",
              "      const quickchartButtonEl =\n",
              "        document.querySelector('#' + key + ' button');\n",
              "      quickchartButtonEl.disabled = true;  // To prevent multiple clicks.\n",
              "      quickchartButtonEl.classList.add('colab-df-spinner');\n",
              "      try {\n",
              "        const charts = await google.colab.kernel.invokeFunction(\n",
              "            'suggestCharts', [key], {});\n",
              "      } catch (error) {\n",
              "        console.error('Error during call to suggestCharts:', error);\n",
              "      }\n",
              "      quickchartButtonEl.classList.remove('colab-df-spinner');\n",
              "      quickchartButtonEl.classList.add('colab-df-quickchart-complete');\n",
              "    }\n",
              "    (() => {\n",
              "      let quickchartButtonEl =\n",
              "        document.querySelector('#df-2992eafd-7d5c-481c-b36c-097880c9073f button');\n",
              "      quickchartButtonEl.style.display =\n",
              "        google.colab.kernel.accessAllowed ? 'block' : 'none';\n",
              "    })();\n",
              "  </script>\n",
              "</div>\n",
              "    </div>\n",
              "  </div>\n"
            ],
            "text/plain": [
              "      App’s package name                                             Review  \\\n",
              "0   pt.cosmicode.guessup  app worked fine extremely difficult unsubscrib...   \n",
              "1   pt.cosmicode.guessup  fun decent game timer ridiculous hate pauses a...   \n",
              "2   pt.cosmicode.guessup  im sorry boring answers wrong correct christma...   \n",
              "3   pt.cosmicode.guessup                                               hate   \n",
              "4   pt.cosmicode.guessup                                               hate   \n",
              "..                   ...                                                ...   \n",
              "95  pt.cosmicode.guessup                                        aone supper   \n",
              "96  pt.cosmicode.guessup  meus amigos quebraram minha perna tentando des...   \n",
              "97  pt.cosmicode.guessup  la verdad tuve muchos problemas por que decia ...   \n",
              "98  pt.cosmicode.guessup  tienes peliculas que son tan populareslo mismo...   \n",
              "99  pt.cosmicode.guessup                                  tutorial required   \n",
              "\n",
              "    Polarity  \n",
              "0    -0.7713  \n",
              "1    -0.7415  \n",
              "2    -0.6808  \n",
              "3    -0.5719  \n",
              "4    -0.5719  \n",
              "..       ...  \n",
              "95    0.0000  \n",
              "96    0.0000  \n",
              "97    0.0000  \n",
              "98    0.0000  \n",
              "99    0.0000  \n",
              "\n",
              "[100 rows x 3 columns]"
            ]
          },
          "metadata": {},
          "output_type": "display_data"
        }
      ],
      "source": [
        "sorted_reviews = sorted(review_data_vader, key=lambda k: k['Polarity'])\n",
        "top_20_reviews = sorted_reviews[:100]\n",
        "df = pd.DataFrame(top_20_reviews, columns=['App’s package name', 'Review', 'Polarity'])\n",
        "display(df)"
      ]
    },
    {
      "cell_type": "markdown",
      "metadata": {
        "id": "XWkHbPpStGj0"
      },
      "source": [
        "## I. Recommend two new features or enhancements (could be bug reports) for the app based on your above analysis that have not been done in the project.\n",
        "\n"
      ]
    },
    {
      "cell_type": "markdown",
      "metadata": {
        "id": "cIuTyBmefcoE"
      },
      "source": [
        "I would reccomend adding additional language and accesibility options. One example is a Germa nalbgauge option as per the reviews, and also to add more decks/categories that are related to foreign countries. Many categories are only for North America.\n",
        "\n",
        "Another recommendation is to add an update to fix the motion detecion on the tilting of the device in roder to recognize the correct/incorrect option better."
      ]
    },
    {
      "cell_type": "markdown",
      "metadata": {
        "id": "KxJmT8nItLjV"
      },
      "source": [
        "## II. How do you compare these recommendations, with the recommendations you provided based on persona analysis in Assignment 2? Explain similarities and differences."
      ]
    },
    {
      "cell_type": "markdown",
      "metadata": {
        "id": "Urhpq8jSkalj"
      },
      "source": [
        "The first recommendation is identical to what I had for my second person in assignment 2. As mentioned in my assignment 2 I said: \"It would be important to have categories that apply to multiple countries and backgrounds. This would allow for people across the world to not feel they cannot use the game because there are no categories that reference things that they know ''. This is because many users are not only American. This is closely linked to my above recommendation of adding more language features and accessibility.\n",
        "\n",
        "As for my other recommendation, I did not discover it in my assignment 2. I did not see that there was a bug in regard to motion detection, nor did I see any bugs at all during assignment 2. The recommendation I had described in Assignment 2 was being able to add more categories and more social features, but this is more minor compared to the number of reviews talking about bugs in motion detection.\n"
      ]
    }
  ],
  "metadata": {
    "colab": {
      "provenance": []
    },
    "kernelspec": {
      "display_name": "Python 3",
      "name": "python3"
    },
    "language_info": {
      "codemirror_mode": {
        "name": "ipython",
        "version": 3
      },
      "file_extension": ".py",
      "mimetype": "text/x-python",
      "name": "python",
      "nbconvert_exporter": "python",
      "pygments_lexer": "ipython3",
      "version": "3.11.4"
    }
  },
  "nbformat": 4,
  "nbformat_minor": 0
}
